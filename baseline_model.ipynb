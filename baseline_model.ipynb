{
 "cells": [
  {
   "cell_type": "code",
   "execution_count": 2,
   "metadata": {},
   "outputs": [
    {
     "name": "stderr",
     "output_type": "stream",
     "text": [
      "Using TensorFlow backend.\n"
     ]
    }
   ],
   "source": [
    "import pandas as pd\n",
    "import numpy as np\n",
    "import seaborn as sns\n",
    "import matplotlib.pyplot as plt\n",
    "import datetime as dt\n",
    "import time\n",
    "from keras.models import Sequential\n",
    "from keras.layers import LSTM, Dense, Dropout\n",
    "from keras import optimizers\n",
    "from sklearn.model_selection import train_test_split\n",
    "from sklearn.preprocessing import MinMaxScaler"
   ]
  },
  {
   "cell_type": "code",
   "execution_count": 3,
   "metadata": {},
   "outputs": [],
   "source": [
    "#load data\n",
    "train = pd.read_csv(\"sales_train.csv\")\n",
    "test = pd.read_csv(\"test.csv\")\n"
   ]
  },
  {
   "cell_type": "code",
   "execution_count": 4,
   "metadata": {},
   "outputs": [
    {
     "data": {
      "text/html": [
       "<div>\n",
       "<style scoped>\n",
       "    .dataframe tbody tr th:only-of-type {\n",
       "        vertical-align: middle;\n",
       "    }\n",
       "\n",
       "    .dataframe tbody tr th {\n",
       "        vertical-align: top;\n",
       "    }\n",
       "\n",
       "    .dataframe thead th {\n",
       "        text-align: right;\n",
       "    }\n",
       "</style>\n",
       "<table border=\"1\" class=\"dataframe\">\n",
       "  <thead>\n",
       "    <tr style=\"text-align: right;\">\n",
       "      <th></th>\n",
       "      <th>date</th>\n",
       "      <th>date_block_num</th>\n",
       "      <th>shop_id</th>\n",
       "      <th>item_id</th>\n",
       "      <th>item_price</th>\n",
       "      <th>item_cnt_day</th>\n",
       "    </tr>\n",
       "  </thead>\n",
       "  <tbody>\n",
       "    <tr>\n",
       "      <td>0</td>\n",
       "      <td>2013-01</td>\n",
       "      <td>0</td>\n",
       "      <td>59</td>\n",
       "      <td>22154</td>\n",
       "      <td>999.00</td>\n",
       "      <td>1.0</td>\n",
       "    </tr>\n",
       "    <tr>\n",
       "      <td>1</td>\n",
       "      <td>2013-01</td>\n",
       "      <td>0</td>\n",
       "      <td>25</td>\n",
       "      <td>2552</td>\n",
       "      <td>899.00</td>\n",
       "      <td>1.0</td>\n",
       "    </tr>\n",
       "    <tr>\n",
       "      <td>2</td>\n",
       "      <td>2013-01</td>\n",
       "      <td>0</td>\n",
       "      <td>25</td>\n",
       "      <td>2552</td>\n",
       "      <td>899.00</td>\n",
       "      <td>-1.0</td>\n",
       "    </tr>\n",
       "    <tr>\n",
       "      <td>3</td>\n",
       "      <td>2013-01</td>\n",
       "      <td>0</td>\n",
       "      <td>25</td>\n",
       "      <td>2554</td>\n",
       "      <td>1709.05</td>\n",
       "      <td>1.0</td>\n",
       "    </tr>\n",
       "    <tr>\n",
       "      <td>4</td>\n",
       "      <td>2013-01</td>\n",
       "      <td>0</td>\n",
       "      <td>25</td>\n",
       "      <td>2555</td>\n",
       "      <td>1099.00</td>\n",
       "      <td>1.0</td>\n",
       "    </tr>\n",
       "  </tbody>\n",
       "</table>\n",
       "</div>"
      ],
      "text/plain": [
       "      date  date_block_num  shop_id  item_id  item_price  item_cnt_day\n",
       "0  2013-01               0       59    22154      999.00           1.0\n",
       "1  2013-01               0       25     2552      899.00           1.0\n",
       "2  2013-01               0       25     2552      899.00          -1.0\n",
       "3  2013-01               0       25     2554     1709.05           1.0\n",
       "4  2013-01               0       25     2555     1099.00           1.0"
      ]
     },
     "execution_count": 4,
     "metadata": {},
     "output_type": "execute_result"
    }
   ],
   "source": [
    "train = train.loc[(train.item_cnt_day < 2000)]\n",
    "\n",
    "train.date = train.date.apply(lambda x:dt.datetime.strptime(x, '%d.%m.%Y'))\n",
    "train.date = train.date.apply(lambda x:dt.datetime.strftime(x,'%Y-%m'))\n",
    "data = train.groupby(['date','item_id','shop_id']).sum().reset_index()\n",
    "\n",
    "data = data[['date','item_id','shop_id','item_cnt_day']]\n",
    "\n",
    "table = pd.pivot_table(data, values='item_cnt_day', index=['item_id', 'shop_id'],\n",
    "                        columns=['date'], aggfunc=np.sum).reset_index()\n",
    "table = table.fillna(0)\n",
    "\n",
    "#get rid of those not in test data\n",
    "data_inc = test.merge(table, on = ['item_id', 'shop_id'], how = 'left')\n",
    "data_inc = data_inc.fillna(0)\n",
    "data_inc = data_inc.iloc[:,3:]\n",
    "\n",
    "train.head()"
   ]
  },
  {
   "cell_type": "code",
   "execution_count": 5,
   "metadata": {},
   "outputs": [],
   "source": [
    "# normalize the dataset\n",
    "scaler = MinMaxScaler(feature_range=(0, 1))\n",
    "dataset = scaler.fit_transform(data_inc.values.T)\n",
    "dataset = dataset.T\n",
    "\n",
    "X, y = dataset[:,:33], dataset[:,33:]\n",
    "\n",
    "x_train, x_test, y_train, y_test = train_test_split(X,y,test_size=0.3,random_state=0)\n",
    "#check shape of x_train and y_train\n",
    "# reshape input to be [samples, time steps, features]\n",
    "x_train = x_train.reshape((149940, 33, 1))\n",
    "y_train = y_train.reshape((149940,1))\n",
    "x_test = x_test.reshape((64260, 33, 1))\n",
    "y_test = y_test.reshape((64260,1))"
   ]
  },
  {
   "cell_type": "code",
   "execution_count": 6,
   "metadata": {},
   "outputs": [
    {
     "name": "stdout",
     "output_type": "stream",
     "text": [
      "Epoch 1/7\n",
      "149940/149940 [==============================] - 55s 368us/step - loss: 0.0612 - mean_squared_error: 0.0612\n",
      "Epoch 2/7\n",
      "149940/149940 [==============================] - 57s 379us/step - loss: 0.0604 - mean_squared_error: 0.0604\n",
      "Epoch 3/7\n",
      "149940/149940 [==============================] - 61s 408us/step - loss: 0.0604 - mean_squared_error: 0.0604\n",
      "Epoch 4/7\n",
      "149940/149940 [==============================] - 60s 401us/step - loss: 0.0603 - mean_squared_error: 0.0603\n",
      "Epoch 5/7\n",
      "149940/149940 [==============================] - 60s 398us/step - loss: 0.0602 - mean_squared_error: 0.0602\n",
      "Epoch 6/7\n",
      "149940/149940 [==============================] - 57s 380us/step - loss: 0.0601 - mean_squared_error: 0.0601\n",
      "Epoch 7/7\n",
      "149940/149940 [==============================] - 55s 368us/step - loss: 0.0601 - mean_squared_error: 0.0601\n",
      "--------------------------\n",
      "Total training time (seconds) 405.89851903915405\n",
      "64260/64260 [==============================] - 8s 128us/step\n",
      "--------------------------\n",
      "RMSE 0.059877499645831535\n"
     ]
    }
   ],
   "source": [
    "batch_size = 1260\n",
    "look_back = 33\n",
    "def model_1(): #change neurons\n",
    "    model = Sequential()\n",
    "    model.add(LSTM(64, batch_input_shape=(batch_size, x_train.shape[1], x_train.shape[2]),\n",
    "                   stateful = False))\n",
    "    model.add(Dense(1))\n",
    "    adam = optimizers.Adam()\n",
    "    model.compile(loss='mse', optimizer=adam, metrics=['mean_squared_error'])\n",
    "\n",
    "    return model\n",
    "\n",
    "model1 = model_1()\n",
    "\n",
    "#record training time\n",
    "start=time.time()\n",
    "training1=model1.fit(x_train, y_train, batch_size = 1260, epochs = 7, shuffle=False)\n",
    "end=time.time()\n",
    "print(\"--------------------------\")\n",
    "print(\"Total training time (seconds)\", end-start)\n",
    "\n",
    "# make predictions\n",
    "trainPredict = model1.predict(x_train, batch_size = 1260)\n",
    "testPredict = model1.predict(x_test,batch_size = 1260)\n",
    "\n",
    "#test error\n",
    "test_rmse = model1.evaluate(x_test, y_test,batch_size = 1260)\n",
    "print(\"--------------------------\")\n",
    "print('RMSE' , test_rmse[0])"
   ]
  },
  {
   "cell_type": "code",
   "execution_count": 7,
   "metadata": {},
   "outputs": [
    {
     "data": {
      "image/png": "[encoded data removed]",
      "text/plain": [
       "<Figure size 432x288 with 1 Axes>"
      ]
     },
     "metadata": {
      "needs_background": "light"
     },
     "output_type": "display_data"
    }
   ],
   "source": [
    "plt.plot(training1.history['loss'], label= 'loss(mse)')\n",
    "plt.plot(np.sqrt(training1.history['mean_squared_error']), label= 'rmse')\n",
    "plt.title('Training loss')\n",
    "plt.ylim(0,0.3)\n",
    "plt.legend(loc=1)\n",
    "plt.show()"
   ]
  },
  {
   "cell_type": "code",
   "execution_count": null,
   "metadata": {},
   "outputs": [],
   "source": [
    "batch_size = 1260\n",
    "look_back = 33\n",
    "def model_4(): #change neurons\n",
    "    model = Sequential()\n",
    "    model.add(LSTM(32, batch_input_shape=(batch_size, x_train.shape[1], x_train.shape[2]),\n",
    "                   stateful = False))\n",
    "    model.add(Dense(1))\n",
    "    adam = optimizers.Adam()\n",
    "    model.compile(loss='mse', optimizer=adam, metrics=['mean_squared_error'])\n",
    "\n",
    "    return model\n",
    "\n",
    "model4 = model_4()\n",
    "\n",
    "#record training time\n",
    "start=time.time()\n",
    "training4=model4.fit(x_train, y_train, batch_size = 1260, epochs = 2, shuffle=False)\n",
    "end=time.time()\n",
    "print(\"--------------------------\")\n",
    "print(\"Total training time (seconds)\", end-start)\n",
    "\n",
    "# make predictions\n",
    "trainPredict = model4.predict(x_train, batch_size = 1260)\n",
    "testPredict = model4.predict(x_test,batch_size = 1260)\n",
    "\n",
    "#test error\n",
    "test_rmse = model4.evaluate(x_test, y_test,batch_size = 1260)\n",
    "print(\"--------------------------\")\n",
    "print('RMSE' , test_rmse[0])\n",
    "\n",
    "\n",
    "\n",
    "\n"
   ]
  },
  {
   "cell_type": "code",
   "execution_count": null,
   "metadata": {},
   "outputs": [],
   "source": [
    "plt.plot(training4.history['loss'], label= 'loss(mse)')\n",
    "plt.plot(np.sqrt(training4.history['mean_squared_error']), label= 'rmse')\n",
    "plt.title('Training loss')\n",
    "plt.ylim(0,0.3)\n",
    "plt.legend(loc=1)\n",
    "plt.show()"
   ]
  },
  {
   "cell_type": "code",
   "execution_count": null,
   "metadata": {},
   "outputs": [],
   "source": []
  }
 ],
 "metadata": {
  "kernelspec": {
   "display_name": "Python 3",
   "language": "python",
   "name": "python3"
  },
  "language_info": {
   "codemirror_mode": {
    "name": "ipython",
    "version": 3
   },
   "file_extension": ".py",
   "mimetype": "text/x-python",
   "name": "python",
   "nbconvert_exporter": "python",
   "pygments_lexer": "ipython3",
   "version": "3.7.4"
  }
 },
 "nbformat": 4,
 "nbformat_minor": 2
}
