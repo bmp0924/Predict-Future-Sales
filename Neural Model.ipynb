{
 "cells": [
  {
   "cell_type": "code",
   "execution_count": 1,
   "metadata": {},
   "outputs": [
    {
     "name": "stderr",
     "output_type": "stream",
     "text": [
      "Using TensorFlow backend.\n"
     ]
    }
   ],
   "source": [
    "import pandas as pd\n",
    "import numpy as np\n",
    "import seaborn as sns\n",
    "import matplotlib.pyplot as plt\n",
    "import datetime as dt\n",
    "import time\n",
    "from keras.models import Sequential\n",
    "from keras.layers import LSTM, Dense, Dropout\n",
    "from keras import optimizers\n",
    "from sklearn.model_selection import train_test_split\n",
    "from sklearn.preprocessing import MinMaxScaler"
   ]
  },
  {
   "cell_type": "code",
   "execution_count": 2,
   "metadata": {},
   "outputs": [],
   "source": [
    "#load data\n",
    "train = pd.read_csv(\"sales_train.csv\")\n",
    "test = pd.read_csv(\"test.csv\")\n",
    "item_catigories = pd.read_csv('items.csv')\n",
    "catigories = pd.read_csv('item_categories.csv')\n"
   ]
  },
  {
   "cell_type": "code",
   "execution_count": 3,
   "metadata": {},
   "outputs": [
    {
     "data": {
      "text/plain": [
       "Index(['date', 'date_block_num', 'shop_id', 'item_id', 'item_price',\n",
       "       'item_cnt_day'],\n",
       "      dtype='object')"
      ]
     },
     "execution_count": 3,
     "metadata": {},
     "output_type": "execute_result"
    }
   ],
   "source": [
    "train.columns"
   ]
  },
  {
   "cell_type": "code",
   "execution_count": 4,
   "metadata": {},
   "outputs": [
    {
     "data": {
      "text/html": [
       "<div>\n",
       "<style scoped>\n",
       "    .dataframe tbody tr th:only-of-type {\n",
       "        vertical-align: middle;\n",
       "    }\n",
       "\n",
       "    .dataframe tbody tr th {\n",
       "        vertical-align: top;\n",
       "    }\n",
       "\n",
       "    .dataframe thead th {\n",
       "        text-align: right;\n",
       "    }\n",
       "</style>\n",
       "<table border=\"1\" class=\"dataframe\">\n",
       "  <thead>\n",
       "    <tr style=\"text-align: right;\">\n",
       "      <th></th>\n",
       "      <th>count</th>\n",
       "      <th>mean</th>\n",
       "      <th>std</th>\n",
       "      <th>min</th>\n",
       "      <th>25%</th>\n",
       "      <th>50%</th>\n",
       "      <th>75%</th>\n",
       "      <th>max</th>\n",
       "    </tr>\n",
       "  </thead>\n",
       "  <tbody>\n",
       "    <tr>\n",
       "      <td>date_block_num</td>\n",
       "      <td>2935849.0</td>\n",
       "      <td>14.569911</td>\n",
       "      <td>9.422988</td>\n",
       "      <td>0.0</td>\n",
       "      <td>7.0</td>\n",
       "      <td>14.0</td>\n",
       "      <td>23.0</td>\n",
       "      <td>33.0</td>\n",
       "    </tr>\n",
       "    <tr>\n",
       "      <td>shop_id</td>\n",
       "      <td>2935849.0</td>\n",
       "      <td>33.001728</td>\n",
       "      <td>16.226973</td>\n",
       "      <td>0.0</td>\n",
       "      <td>22.0</td>\n",
       "      <td>31.0</td>\n",
       "      <td>47.0</td>\n",
       "      <td>59.0</td>\n",
       "    </tr>\n",
       "    <tr>\n",
       "      <td>item_id</td>\n",
       "      <td>2935849.0</td>\n",
       "      <td>10197.227057</td>\n",
       "      <td>6324.297354</td>\n",
       "      <td>0.0</td>\n",
       "      <td>4476.0</td>\n",
       "      <td>9343.0</td>\n",
       "      <td>15684.0</td>\n",
       "      <td>22169.0</td>\n",
       "    </tr>\n",
       "    <tr>\n",
       "      <td>item_price</td>\n",
       "      <td>2935849.0</td>\n",
       "      <td>890.853233</td>\n",
       "      <td>1729.799631</td>\n",
       "      <td>-1.0</td>\n",
       "      <td>249.0</td>\n",
       "      <td>399.0</td>\n",
       "      <td>999.0</td>\n",
       "      <td>307980.0</td>\n",
       "    </tr>\n",
       "    <tr>\n",
       "      <td>item_cnt_day</td>\n",
       "      <td>2935849.0</td>\n",
       "      <td>1.242641</td>\n",
       "      <td>2.618834</td>\n",
       "      <td>-22.0</td>\n",
       "      <td>1.0</td>\n",
       "      <td>1.0</td>\n",
       "      <td>1.0</td>\n",
       "      <td>2169.0</td>\n",
       "    </tr>\n",
       "  </tbody>\n",
       "</table>\n",
       "</div>"
      ],
      "text/plain": [
       "                    count          mean          std   min     25%     50%  \\\n",
       "date_block_num  2935849.0     14.569911     9.422988   0.0     7.0    14.0   \n",
       "shop_id         2935849.0     33.001728    16.226973   0.0    22.0    31.0   \n",
       "item_id         2935849.0  10197.227057  6324.297354   0.0  4476.0  9343.0   \n",
       "item_price      2935849.0    890.853233  1729.799631  -1.0   249.0   399.0   \n",
       "item_cnt_day    2935849.0      1.242641     2.618834 -22.0     1.0     1.0   \n",
       "\n",
       "                    75%       max  \n",
       "date_block_num     23.0      33.0  \n",
       "shop_id            47.0      59.0  \n",
       "item_id         15684.0   22169.0  \n",
       "item_price        999.0  307980.0  \n",
       "item_cnt_day        1.0    2169.0  "
      ]
     },
     "execution_count": 4,
     "metadata": {},
     "output_type": "execute_result"
    }
   ],
   "source": [
    "train.describe().transpose()"
   ]
  },
  {
   "cell_type": "code",
   "execution_count": 5,
   "metadata": {},
   "outputs": [
    {
     "data": {
      "text/plain": [
       "Index(['ID', 'shop_id', 'item_id'], dtype='object')"
      ]
     },
     "execution_count": 5,
     "metadata": {},
     "output_type": "execute_result"
    }
   ],
   "source": [
    "test.columns"
   ]
  },
  {
   "cell_type": "code",
   "execution_count": 6,
   "metadata": {},
   "outputs": [
    {
     "data": {
      "text/html": [
       "<div>\n",
       "<style scoped>\n",
       "    .dataframe tbody tr th:only-of-type {\n",
       "        vertical-align: middle;\n",
       "    }\n",
       "\n",
       "    .dataframe tbody tr th {\n",
       "        vertical-align: top;\n",
       "    }\n",
       "\n",
       "    .dataframe thead th {\n",
       "        text-align: right;\n",
       "    }\n",
       "</style>\n",
       "<table border=\"1\" class=\"dataframe\">\n",
       "  <thead>\n",
       "    <tr style=\"text-align: right;\">\n",
       "      <th></th>\n",
       "      <th>count</th>\n",
       "      <th>mean</th>\n",
       "      <th>std</th>\n",
       "      <th>min</th>\n",
       "      <th>25%</th>\n",
       "      <th>50%</th>\n",
       "      <th>75%</th>\n",
       "      <th>max</th>\n",
       "    </tr>\n",
       "  </thead>\n",
       "  <tbody>\n",
       "    <tr>\n",
       "      <td>ID</td>\n",
       "      <td>214200.0</td>\n",
       "      <td>107099.500000</td>\n",
       "      <td>61834.358168</td>\n",
       "      <td>0.0</td>\n",
       "      <td>53549.75</td>\n",
       "      <td>107099.5</td>\n",
       "      <td>160649.25</td>\n",
       "      <td>214199.0</td>\n",
       "    </tr>\n",
       "    <tr>\n",
       "      <td>shop_id</td>\n",
       "      <td>214200.0</td>\n",
       "      <td>31.642857</td>\n",
       "      <td>17.561933</td>\n",
       "      <td>2.0</td>\n",
       "      <td>16.00</td>\n",
       "      <td>34.5</td>\n",
       "      <td>47.00</td>\n",
       "      <td>59.0</td>\n",
       "    </tr>\n",
       "    <tr>\n",
       "      <td>item_id</td>\n",
       "      <td>214200.0</td>\n",
       "      <td>11019.398627</td>\n",
       "      <td>6252.644590</td>\n",
       "      <td>30.0</td>\n",
       "      <td>5381.50</td>\n",
       "      <td>11203.0</td>\n",
       "      <td>16071.50</td>\n",
       "      <td>22167.0</td>\n",
       "    </tr>\n",
       "  </tbody>\n",
       "</table>\n",
       "</div>"
      ],
      "text/plain": [
       "            count           mean           std   min       25%       50%  \\\n",
       "ID       214200.0  107099.500000  61834.358168   0.0  53549.75  107099.5   \n",
       "shop_id  214200.0      31.642857     17.561933   2.0     16.00      34.5   \n",
       "item_id  214200.0   11019.398627   6252.644590  30.0   5381.50   11203.0   \n",
       "\n",
       "               75%       max  \n",
       "ID       160649.25  214199.0  \n",
       "shop_id      47.00      59.0  \n",
       "item_id   16071.50   22167.0  "
      ]
     },
     "execution_count": 6,
     "metadata": {},
     "output_type": "execute_result"
    }
   ],
   "source": [
    "test.describe().transpose()"
   ]
  },
  {
   "cell_type": "code",
   "execution_count": 7,
   "metadata": {},
   "outputs": [
    {
     "data": {
      "text/plain": [
       "Index(['item_name', 'item_id', 'item_category_id'], dtype='object')"
      ]
     },
     "execution_count": 7,
     "metadata": {},
     "output_type": "execute_result"
    }
   ],
   "source": [
    "item_catigories.columns"
   ]
  },
  {
   "cell_type": "code",
   "execution_count": 8,
   "metadata": {},
   "outputs": [
    {
     "data": {
      "text/html": [
       "<div>\n",
       "<style scoped>\n",
       "    .dataframe tbody tr th:only-of-type {\n",
       "        vertical-align: middle;\n",
       "    }\n",
       "\n",
       "    .dataframe tbody tr th {\n",
       "        vertical-align: top;\n",
       "    }\n",
       "\n",
       "    .dataframe thead th {\n",
       "        text-align: right;\n",
       "    }\n",
       "</style>\n",
       "<table border=\"1\" class=\"dataframe\">\n",
       "  <thead>\n",
       "    <tr style=\"text-align: right;\">\n",
       "      <th></th>\n",
       "      <th>count</th>\n",
       "      <th>mean</th>\n",
       "      <th>std</th>\n",
       "      <th>min</th>\n",
       "      <th>25%</th>\n",
       "      <th>50%</th>\n",
       "      <th>75%</th>\n",
       "      <th>max</th>\n",
       "    </tr>\n",
       "  </thead>\n",
       "  <tbody>\n",
       "    <tr>\n",
       "      <td>item_id</td>\n",
       "      <td>22170.0</td>\n",
       "      <td>11084.500000</td>\n",
       "      <td>6400.072070</td>\n",
       "      <td>0.0</td>\n",
       "      <td>5542.25</td>\n",
       "      <td>11084.5</td>\n",
       "      <td>16626.75</td>\n",
       "      <td>22169.0</td>\n",
       "    </tr>\n",
       "    <tr>\n",
       "      <td>item_category_id</td>\n",
       "      <td>22170.0</td>\n",
       "      <td>46.290753</td>\n",
       "      <td>15.941486</td>\n",
       "      <td>0.0</td>\n",
       "      <td>37.00</td>\n",
       "      <td>40.0</td>\n",
       "      <td>58.00</td>\n",
       "      <td>83.0</td>\n",
       "    </tr>\n",
       "  </tbody>\n",
       "</table>\n",
       "</div>"
      ],
      "text/plain": [
       "                    count          mean          std  min      25%      50%  \\\n",
       "item_id           22170.0  11084.500000  6400.072070  0.0  5542.25  11084.5   \n",
       "item_category_id  22170.0     46.290753    15.941486  0.0    37.00     40.0   \n",
       "\n",
       "                       75%      max  \n",
       "item_id           16626.75  22169.0  \n",
       "item_category_id     58.00     83.0  "
      ]
     },
     "execution_count": 8,
     "metadata": {},
     "output_type": "execute_result"
    }
   ],
   "source": [
    "item_catigories.describe().transpose()"
   ]
  },
  {
   "cell_type": "code",
   "execution_count": 9,
   "metadata": {},
   "outputs": [
    {
     "data": {
      "text/plain": [
       "Index(['item_category_name', 'item_category_id'], dtype='object')"
      ]
     },
     "execution_count": 9,
     "metadata": {},
     "output_type": "execute_result"
    }
   ],
   "source": [
    "catigories.columns"
   ]
  },
  {
   "cell_type": "code",
   "execution_count": 10,
   "metadata": {},
   "outputs": [
    {
     "data": {
      "text/html": [
       "<div>\n",
       "<style scoped>\n",
       "    .dataframe tbody tr th:only-of-type {\n",
       "        vertical-align: middle;\n",
       "    }\n",
       "\n",
       "    .dataframe tbody tr th {\n",
       "        vertical-align: top;\n",
       "    }\n",
       "\n",
       "    .dataframe thead th {\n",
       "        text-align: right;\n",
       "    }\n",
       "</style>\n",
       "<table border=\"1\" class=\"dataframe\">\n",
       "  <thead>\n",
       "    <tr style=\"text-align: right;\">\n",
       "      <th></th>\n",
       "      <th>item_category_name</th>\n",
       "      <th>item_category_id</th>\n",
       "    </tr>\n",
       "  </thead>\n",
       "  <tbody>\n",
       "    <tr>\n",
       "      <td>0</td>\n",
       "      <td>PC - Гарнитуры/Наушники</td>\n",
       "      <td>0</td>\n",
       "    </tr>\n",
       "    <tr>\n",
       "      <td>1</td>\n",
       "      <td>Аксессуары - PS2</td>\n",
       "      <td>1</td>\n",
       "    </tr>\n",
       "    <tr>\n",
       "      <td>2</td>\n",
       "      <td>Аксессуары - PS3</td>\n",
       "      <td>2</td>\n",
       "    </tr>\n",
       "    <tr>\n",
       "      <td>3</td>\n",
       "      <td>Аксессуары - PS4</td>\n",
       "      <td>3</td>\n",
       "    </tr>\n",
       "    <tr>\n",
       "      <td>4</td>\n",
       "      <td>Аксессуары - PSP</td>\n",
       "      <td>4</td>\n",
       "    </tr>\n",
       "  </tbody>\n",
       "</table>\n",
       "</div>"
      ],
      "text/plain": [
       "        item_category_name  item_category_id\n",
       "0  PC - Гарнитуры/Наушники                 0\n",
       "1         Аксессуары - PS2                 1\n",
       "2         Аксессуары - PS3                 2\n",
       "3         Аксессуары - PS4                 3\n",
       "4         Аксессуары - PSP                 4"
      ]
     },
     "execution_count": 10,
     "metadata": {},
     "output_type": "execute_result"
    }
   ],
   "source": [
    "catigories.head()"
   ]
  },
  {
   "cell_type": "code",
   "execution_count": 11,
   "metadata": {},
   "outputs": [
    {
     "data": {
      "text/plain": [
       "(array([2.935834e+06, 1.300000e+01, 1.000000e+00, 0.000000e+00,\n",
       "        1.000000e+00]),\n",
       " array([ -22. ,  416.2,  854.4, 1292.6, 1730.8, 2169. ]),\n",
       " <a list of 5 Patch objects>)"
      ]
     },
     "execution_count": 11,
     "metadata": {},
     "output_type": "execute_result"
    },
    {
     "data": {
      "image/png": "[encoded data removed]",
      "text/plain": [
       "<Figure size 432x288 with 1 Axes>"
      ]
     },
     "metadata": {
      "needs_background": "light"
     },
     "output_type": "display_data"
    }
   ],
   "source": [
    "fig, axs = plt.subplots(1, 1, sharey=True, tight_layout=True)\n",
    "\n",
    "axs.hist(train['item_cnt_day'], bins=5)\n"
   ]
  },
  {
   "cell_type": "code",
   "execution_count": 12,
   "metadata": {},
   "outputs": [],
   "source": [
    "train = train.loc[(train.item_cnt_day < 669)]\n",
    "\n",
    "# train.date = train.date.apply(lambda x:dt.datetime.strptime(x, '%d.%m.%Y'))\n",
    "# train.date = train.date.apply(lambda x:dt.datetime.strftime(x,'%Y-%m'))"
   ]
  },
  {
   "cell_type": "code",
   "execution_count": 14,
   "metadata": {},
   "outputs": [
    {
     "data": {
      "text/html": [
       "<div>\n",
       "<style scoped>\n",
       "    .dataframe tbody tr th:only-of-type {\n",
       "        vertical-align: middle;\n",
       "    }\n",
       "\n",
       "    .dataframe tbody tr th {\n",
       "        vertical-align: top;\n",
       "    }\n",
       "\n",
       "    .dataframe thead th {\n",
       "        text-align: right;\n",
       "    }\n",
       "</style>\n",
       "<table border=\"1\" class=\"dataframe\">\n",
       "  <thead>\n",
       "    <tr style=\"text-align: right;\">\n",
       "      <th>date_block_num</th>\n",
       "      <th>item_id</th>\n",
       "      <th>shop_id</th>\n",
       "      <th>0</th>\n",
       "      <th>1</th>\n",
       "      <th>2</th>\n",
       "      <th>3</th>\n",
       "      <th>4</th>\n",
       "      <th>5</th>\n",
       "      <th>6</th>\n",
       "      <th>7</th>\n",
       "      <th>...</th>\n",
       "      <th>24</th>\n",
       "      <th>25</th>\n",
       "      <th>26</th>\n",
       "      <th>27</th>\n",
       "      <th>28</th>\n",
       "      <th>29</th>\n",
       "      <th>30</th>\n",
       "      <th>31</th>\n",
       "      <th>32</th>\n",
       "      <th>33</th>\n",
       "    </tr>\n",
       "  </thead>\n",
       "  <tbody>\n",
       "    <tr>\n",
       "      <td>0</td>\n",
       "      <td>0</td>\n",
       "      <td>54</td>\n",
       "      <td>0.0</td>\n",
       "      <td>0.0</td>\n",
       "      <td>0.0</td>\n",
       "      <td>0.0</td>\n",
       "      <td>0.0</td>\n",
       "      <td>0.0</td>\n",
       "      <td>0.0</td>\n",
       "      <td>0.0</td>\n",
       "      <td>...</td>\n",
       "      <td>0.0</td>\n",
       "      <td>0.0</td>\n",
       "      <td>0.0</td>\n",
       "      <td>0.0</td>\n",
       "      <td>0.0</td>\n",
       "      <td>0.0</td>\n",
       "      <td>0.0</td>\n",
       "      <td>0.0</td>\n",
       "      <td>0.0</td>\n",
       "      <td>0.0</td>\n",
       "    </tr>\n",
       "    <tr>\n",
       "      <td>1</td>\n",
       "      <td>1</td>\n",
       "      <td>55</td>\n",
       "      <td>0.0</td>\n",
       "      <td>0.0</td>\n",
       "      <td>0.0</td>\n",
       "      <td>0.0</td>\n",
       "      <td>0.0</td>\n",
       "      <td>0.0</td>\n",
       "      <td>0.0</td>\n",
       "      <td>0.0</td>\n",
       "      <td>...</td>\n",
       "      <td>0.0</td>\n",
       "      <td>0.0</td>\n",
       "      <td>0.0</td>\n",
       "      <td>0.0</td>\n",
       "      <td>0.0</td>\n",
       "      <td>0.0</td>\n",
       "      <td>0.0</td>\n",
       "      <td>0.0</td>\n",
       "      <td>0.0</td>\n",
       "      <td>0.0</td>\n",
       "    </tr>\n",
       "    <tr>\n",
       "      <td>2</td>\n",
       "      <td>2</td>\n",
       "      <td>54</td>\n",
       "      <td>0.0</td>\n",
       "      <td>0.0</td>\n",
       "      <td>0.0</td>\n",
       "      <td>0.0</td>\n",
       "      <td>0.0</td>\n",
       "      <td>0.0</td>\n",
       "      <td>0.0</td>\n",
       "      <td>0.0</td>\n",
       "      <td>...</td>\n",
       "      <td>0.0</td>\n",
       "      <td>0.0</td>\n",
       "      <td>0.0</td>\n",
       "      <td>0.0</td>\n",
       "      <td>0.0</td>\n",
       "      <td>0.0</td>\n",
       "      <td>0.0</td>\n",
       "      <td>0.0</td>\n",
       "      <td>0.0</td>\n",
       "      <td>0.0</td>\n",
       "    </tr>\n",
       "    <tr>\n",
       "      <td>3</td>\n",
       "      <td>3</td>\n",
       "      <td>54</td>\n",
       "      <td>0.0</td>\n",
       "      <td>0.0</td>\n",
       "      <td>0.0</td>\n",
       "      <td>0.0</td>\n",
       "      <td>0.0</td>\n",
       "      <td>0.0</td>\n",
       "      <td>0.0</td>\n",
       "      <td>0.0</td>\n",
       "      <td>...</td>\n",
       "      <td>0.0</td>\n",
       "      <td>0.0</td>\n",
       "      <td>0.0</td>\n",
       "      <td>0.0</td>\n",
       "      <td>0.0</td>\n",
       "      <td>0.0</td>\n",
       "      <td>0.0</td>\n",
       "      <td>0.0</td>\n",
       "      <td>0.0</td>\n",
       "      <td>0.0</td>\n",
       "    </tr>\n",
       "    <tr>\n",
       "      <td>4</td>\n",
       "      <td>4</td>\n",
       "      <td>54</td>\n",
       "      <td>0.0</td>\n",
       "      <td>0.0</td>\n",
       "      <td>0.0</td>\n",
       "      <td>0.0</td>\n",
       "      <td>0.0</td>\n",
       "      <td>0.0</td>\n",
       "      <td>0.0</td>\n",
       "      <td>0.0</td>\n",
       "      <td>...</td>\n",
       "      <td>0.0</td>\n",
       "      <td>0.0</td>\n",
       "      <td>0.0</td>\n",
       "      <td>0.0</td>\n",
       "      <td>0.0</td>\n",
       "      <td>0.0</td>\n",
       "      <td>0.0</td>\n",
       "      <td>0.0</td>\n",
       "      <td>0.0</td>\n",
       "      <td>0.0</td>\n",
       "    </tr>\n",
       "  </tbody>\n",
       "</table>\n",
       "<p>5 rows × 36 columns</p>\n",
       "</div>"
      ],
      "text/plain": [
       "date_block_num  item_id  shop_id    0    1    2    3    4    5    6    7  ...  \\\n",
       "0                     0       54  0.0  0.0  0.0  0.0  0.0  0.0  0.0  0.0  ...   \n",
       "1                     1       55  0.0  0.0  0.0  0.0  0.0  0.0  0.0  0.0  ...   \n",
       "2                     2       54  0.0  0.0  0.0  0.0  0.0  0.0  0.0  0.0  ...   \n",
       "3                     3       54  0.0  0.0  0.0  0.0  0.0  0.0  0.0  0.0  ...   \n",
       "4                     4       54  0.0  0.0  0.0  0.0  0.0  0.0  0.0  0.0  ...   \n",
       "\n",
       "date_block_num   24   25   26   27   28   29   30   31   32   33  \n",
       "0               0.0  0.0  0.0  0.0  0.0  0.0  0.0  0.0  0.0  0.0  \n",
       "1               0.0  0.0  0.0  0.0  0.0  0.0  0.0  0.0  0.0  0.0  \n",
       "2               0.0  0.0  0.0  0.0  0.0  0.0  0.0  0.0  0.0  0.0  \n",
       "3               0.0  0.0  0.0  0.0  0.0  0.0  0.0  0.0  0.0  0.0  \n",
       "4               0.0  0.0  0.0  0.0  0.0  0.0  0.0  0.0  0.0  0.0  \n",
       "\n",
       "[5 rows x 36 columns]"
      ]
     },
     "execution_count": 14,
     "metadata": {},
     "output_type": "execute_result"
    }
   ],
   "source": [
    "data = train.groupby(['date_block_num','item_id','shop_id']).sum().reset_index()\n",
    "# print(data)\n",
    "data = data[['date_block_num','item_id','shop_id','item_cnt_day','item_price']]\n",
    "item_catigories = item_catigories[['item_id','item_category_id']]\n",
    "\n",
    "# data.head(10)\n",
    "\n",
    "table = pd.pivot_table(data, values='item_cnt_day', index=['item_id', 'shop_id'],\n",
    "                        columns=['date_block_num'], aggfunc=np.sum).reset_index()\n",
    "\n",
    "table = table.fillna(0)\n",
    "\n",
    "data_form = table\n",
    "# data_form = item_catigories.merge(table, on = ['item_id'], how = 'left')\n",
    "\n",
    "data_form.head()\n",
    "\n",
    "\n",
    "#get rid of those not in test data\n",
    "# data_form = test.merge(table, on = ['item_id'], how = 'left')\n",
    "\n",
    "# data_form = data_form.fillna(0)\n",
    "\n"
   ]
  },
  {
   "cell_type": "code",
   "execution_count": 15,
   "metadata": {},
   "outputs": [
    {
     "data": {
      "text/html": [
       "<div>\n",
       "<style scoped>\n",
       "    .dataframe tbody tr th:only-of-type {\n",
       "        vertical-align: middle;\n",
       "    }\n",
       "\n",
       "    .dataframe tbody tr th {\n",
       "        vertical-align: top;\n",
       "    }\n",
       "\n",
       "    .dataframe thead th {\n",
       "        text-align: right;\n",
       "    }\n",
       "</style>\n",
       "<table border=\"1\" class=\"dataframe\">\n",
       "  <thead>\n",
       "    <tr style=\"text-align: right;\">\n",
       "      <th></th>\n",
       "      <th>date_block_num</th>\n",
       "      <th>item_id</th>\n",
       "      <th>shop_id</th>\n",
       "      <th>item_cnt_day</th>\n",
       "      <th>item_price</th>\n",
       "    </tr>\n",
       "  </thead>\n",
       "  <tbody>\n",
       "    <tr>\n",
       "      <td>123212</td>\n",
       "      <td>2</td>\n",
       "      <td>31</td>\n",
       "      <td>2</td>\n",
       "      <td>1.0</td>\n",
       "      <td>698.50</td>\n",
       "    </tr>\n",
       "    <tr>\n",
       "      <td>187177</td>\n",
       "      <td>3</td>\n",
       "      <td>31</td>\n",
       "      <td>2</td>\n",
       "      <td>1.0</td>\n",
       "      <td>699.00</td>\n",
       "    </tr>\n",
       "    <tr>\n",
       "      <td>882793</td>\n",
       "      <td>16</td>\n",
       "      <td>31</td>\n",
       "      <td>2</td>\n",
       "      <td>1.0</td>\n",
       "      <td>415.92</td>\n",
       "    </tr>\n",
       "    <tr>\n",
       "      <td>1577593</td>\n",
       "      <td>33</td>\n",
       "      <td>31</td>\n",
       "      <td>2</td>\n",
       "      <td>1.0</td>\n",
       "      <td>399.00</td>\n",
       "    </tr>\n",
       "  </tbody>\n",
       "</table>\n",
       "</div>"
      ],
      "text/plain": [
       "         date_block_num  item_id  shop_id  item_cnt_day  item_price\n",
       "123212                2       31        2           1.0      698.50\n",
       "187177                3       31        2           1.0      699.00\n",
       "882793               16       31        2           1.0      415.92\n",
       "1577593              33       31        2           1.0      399.00"
      ]
     },
     "execution_count": 15,
     "metadata": {},
     "output_type": "execute_result"
    }
   ],
   "source": [
    "data.loc[(data['date_block_num'] > 1) & (data['shop_id'] == 2) & (data['item_id'] == 31)] "
   ]
  },
  {
   "cell_type": "code",
   "execution_count": 16,
   "metadata": {},
   "outputs": [
    {
     "data": {
      "text/html": [
       "<div>\n",
       "<style scoped>\n",
       "    .dataframe tbody tr th:only-of-type {\n",
       "        vertical-align: middle;\n",
       "    }\n",
       "\n",
       "    .dataframe tbody tr th {\n",
       "        vertical-align: top;\n",
       "    }\n",
       "\n",
       "    .dataframe thead th {\n",
       "        text-align: right;\n",
       "    }\n",
       "</style>\n",
       "<table border=\"1\" class=\"dataframe\">\n",
       "  <thead>\n",
       "    <tr style=\"text-align: right;\">\n",
       "      <th>date_block_num</th>\n",
       "      <th>item_id</th>\n",
       "      <th>shop_id</th>\n",
       "      <th>0</th>\n",
       "      <th>1</th>\n",
       "      <th>2</th>\n",
       "      <th>3</th>\n",
       "      <th>4</th>\n",
       "      <th>5</th>\n",
       "      <th>6</th>\n",
       "      <th>7</th>\n",
       "      <th>...</th>\n",
       "      <th>24</th>\n",
       "      <th>25</th>\n",
       "      <th>26</th>\n",
       "      <th>27</th>\n",
       "      <th>28</th>\n",
       "      <th>29</th>\n",
       "      <th>30</th>\n",
       "      <th>31</th>\n",
       "      <th>32</th>\n",
       "      <th>33</th>\n",
       "    </tr>\n",
       "  </thead>\n",
       "  <tbody>\n",
       "    <tr>\n",
       "      <td>154</td>\n",
       "      <td>31</td>\n",
       "      <td>2</td>\n",
       "      <td>0.0</td>\n",
       "      <td>4.0</td>\n",
       "      <td>1.0</td>\n",
       "      <td>1.0</td>\n",
       "      <td>0.0</td>\n",
       "      <td>0.0</td>\n",
       "      <td>0.0</td>\n",
       "      <td>0.0</td>\n",
       "      <td>...</td>\n",
       "      <td>0.0</td>\n",
       "      <td>0.0</td>\n",
       "      <td>0.0</td>\n",
       "      <td>0.0</td>\n",
       "      <td>0.0</td>\n",
       "      <td>0.0</td>\n",
       "      <td>0.0</td>\n",
       "      <td>0.0</td>\n",
       "      <td>0.0</td>\n",
       "      <td>1.0</td>\n",
       "    </tr>\n",
       "  </tbody>\n",
       "</table>\n",
       "<p>1 rows × 36 columns</p>\n",
       "</div>"
      ],
      "text/plain": [
       "date_block_num  item_id  shop_id    0    1    2    3    4    5    6    7  ...  \\\n",
       "154                  31        2  0.0  4.0  1.0  1.0  0.0  0.0  0.0  0.0  ...   \n",
       "\n",
       "date_block_num   24   25   26   27   28   29   30   31   32   33  \n",
       "154             0.0  0.0  0.0  0.0  0.0  0.0  0.0  0.0  0.0  1.0  \n",
       "\n",
       "[1 rows x 36 columns]"
      ]
     },
     "execution_count": 16,
     "metadata": {},
     "output_type": "execute_result"
    }
   ],
   "source": [
    "data_form.loc[(data_form['shop_id'] == 2) & (data_form['item_id'] == 31)] "
   ]
  },
  {
   "cell_type": "code",
   "execution_count": 17,
   "metadata": {},
   "outputs": [
    {
     "data": {
      "text/plain": [
       "Index(['item_id', 'shop_id',         0,         1,         2,         3,\n",
       "               4,         5,         6,         7,         8,         9,\n",
       "              10,        11,        12,        13,        14,        15,\n",
       "              16,        17,        18,        19,        20,        21,\n",
       "              22,        23,        24,        25,        26,        27,\n",
       "              28,        29,        30,        31,        32,        33],\n",
       "      dtype='object', name='date_block_num')"
      ]
     },
     "execution_count": 17,
     "metadata": {},
     "output_type": "execute_result"
    }
   ],
   "source": [
    "data_form.columns"
   ]
  },
  {
   "cell_type": "code",
   "execution_count": 18,
   "metadata": {},
   "outputs": [],
   "source": [
    "# faad = data_from.loc[(data['date_block_num'] > 32) & (data['shop_id'] == 2)] \n",
    "# print(faad)"
   ]
  },
  {
   "cell_type": "code",
   "execution_count": 19,
   "metadata": {},
   "outputs": [
    {
     "data": {
      "text/plain": [
       "(424124, 36)"
      ]
     },
     "execution_count": 19,
     "metadata": {},
     "output_type": "execute_result"
    }
   ],
   "source": [
    "data_form.shape"
   ]
  },
  {
   "cell_type": "code",
   "execution_count": 58,
   "metadata": {},
   "outputs": [
    {
     "name": "stdout",
     "output_type": "stream",
     "text": [
      "(34, 1)\n"
     ]
    },
    {
     "data": {
      "text/html": [
       "<div>\n",
       "<style scoped>\n",
       "    .dataframe tbody tr th:only-of-type {\n",
       "        vertical-align: middle;\n",
       "    }\n",
       "\n",
       "    .dataframe tbody tr th {\n",
       "        vertical-align: top;\n",
       "    }\n",
       "\n",
       "    .dataframe thead th {\n",
       "        text-align: right;\n",
       "    }\n",
       "</style>\n",
       "<table border=\"1\" class=\"dataframe\">\n",
       "  <thead>\n",
       "    <tr style=\"text-align: right;\">\n",
       "      <th>date_block_num</th>\n",
       "      <th>item_id</th>\n",
       "      <th>shop_id</th>\n",
       "      <th>0</th>\n",
       "      <th>1</th>\n",
       "      <th>2</th>\n",
       "      <th>3</th>\n",
       "      <th>4</th>\n",
       "      <th>5</th>\n",
       "      <th>6</th>\n",
       "      <th>7</th>\n",
       "      <th>...</th>\n",
       "      <th>24</th>\n",
       "      <th>25</th>\n",
       "      <th>26</th>\n",
       "      <th>27</th>\n",
       "      <th>28</th>\n",
       "      <th>29</th>\n",
       "      <th>30</th>\n",
       "      <th>31</th>\n",
       "      <th>32</th>\n",
       "      <th>33</th>\n",
       "    </tr>\n",
       "  </thead>\n",
       "  <tbody>\n",
       "    <tr>\n",
       "      <td>53934</td>\n",
       "      <td>3423</td>\n",
       "      <td>27</td>\n",
       "      <td>0.0</td>\n",
       "      <td>0.0</td>\n",
       "      <td>0.0</td>\n",
       "      <td>0.0</td>\n",
       "      <td>0.0</td>\n",
       "      <td>0.0</td>\n",
       "      <td>1.0</td>\n",
       "      <td>5.0</td>\n",
       "      <td>...</td>\n",
       "      <td>4.0</td>\n",
       "      <td>3.0</td>\n",
       "      <td>1.0</td>\n",
       "      <td>1.0</td>\n",
       "      <td>1.0</td>\n",
       "      <td>3.0</td>\n",
       "      <td>1.0</td>\n",
       "      <td>0.0</td>\n",
       "      <td>0.0</td>\n",
       "      <td>0.0</td>\n",
       "    </tr>\n",
       "  </tbody>\n",
       "</table>\n",
       "<p>1 rows × 36 columns</p>\n",
       "</div>"
      ],
      "text/plain": [
       "date_block_num  item_id  shop_id    0    1    2    3    4    5    6    7  ...  \\\n",
       "53934              3423       27  0.0  0.0  0.0  0.0  0.0  0.0  1.0  5.0  ...   \n",
       "\n",
       "date_block_num   24   25   26   27   28   29   30   31   32   33  \n",
       "53934           4.0  3.0  1.0  1.0  1.0  3.0  1.0  0.0  0.0  0.0  \n",
       "\n",
       "[1 rows x 36 columns]"
      ]
     },
     "execution_count": 58,
     "metadata": {},
     "output_type": "execute_result"
    }
   ],
   "source": [
    "guess_and_check = data_form\n",
    "guess_and_check = guess_and_check.loc[guess_and_check['shop_id'] == 27]\n",
    "guess_and_check = guess_and_check.loc[guess_and_check['item_id'] == 3423]\n",
    "check_vals = guess_and_check.drop(columns=['shop_id','item_id']).T\n",
    "print(check_vals.shape)\n",
    "guess_and_check"
   ]
  },
  {
   "cell_type": "code",
   "execution_count": 59,
   "metadata": {},
   "outputs": [
    {
     "data": {
      "text/plain": [
       "[<matplotlib.lines.Line2D at 0x1ab82c4c90>]"
      ]
     },
     "execution_count": 59,
     "metadata": {},
     "output_type": "execute_result"
    },
    {
     "data": {
      "image/png": "[encoded data removed]",
      "text/plain": [
       "<Figure size 720x288 with 1 Axes>"
      ]
     },
     "metadata": {
      "needs_background": "light"
     },
     "output_type": "display_data"
    }
   ],
   "source": [
    "plt.figure(figsize =(10,4))\n",
    "plt.title(\"Sales of item\"+ str(guess_and_check['item_id']) + 'at shop '+ str(guess_and_check['shop_id']))\n",
    "plt.xlabel('Month')\n",
    "plt.ylabel('Sales')\n",
    "plt.plot(guess_and_check.columns[2:],check_vals)"
   ]
  },
  {
   "cell_type": "code",
   "execution_count": 20,
   "metadata": {},
   "outputs": [],
   "source": [
    "# normalize the dataset\n",
    "scaler = MinMaxScaler(feature_range=(-1, 1))\n",
    "dataset = scaler.fit_transform(data_form.values.T)\n",
    "dataset = dataset.T"
   ]
  },
  {
   "cell_type": "code",
   "execution_count": 21,
   "metadata": {},
   "outputs": [
    {
     "name": "stdout",
     "output_type": "stream",
     "text": [
      "(424124, 36)\n"
     ]
    }
   ],
   "source": [
    "print(dataset.shape)"
   ]
  },
  {
   "cell_type": "code",
   "execution_count": 25,
   "metadata": {},
   "outputs": [
    {
     "name": "stdout",
     "output_type": "stream",
     "text": [
      "(424124, 35)\n",
      "(424124, 1)\n"
     ]
    }
   ],
   "source": [
    "X1, y1 = dataset[:,:35], dataset[:,35:36]\n",
    "# X2, y2 = dataset[:,34:67], dataset[:,67:]\n",
    "\n",
    "# X = np.concatenate(X1,X2)\n",
    "# y = np.concatenate(y1,y2)\n",
    "print(X1.shape)\n",
    "print(y1.shape)\n"
   ]
  },
  {
   "cell_type": "code",
   "execution_count": 26,
   "metadata": {},
   "outputs": [
    {
     "name": "stdout",
     "output_type": "stream",
     "text": [
      "(296886, 1, 35)\n",
      "(127238, 1, 35)\n"
     ]
    }
   ],
   "source": [
    "x_train, x_test, y_train, y_test = train_test_split(X1,y1,test_size=0.3,random_state=0)\n",
    "#check shape of x_train and y_train\n",
    "# reshape input to be [samples, time steps, features]\n",
    "# print(y_train.shape)\n",
    "# print(y_test.shape)\n",
    "\n",
    "x_train= x_train.reshape((x_train.shape[0], 1, x_train.shape[1]))\n",
    "x_test = x_test.reshape((x_test.shape[0], 1, x_test.shape[1]))\n",
    "\n",
    "print(x_train.shape)\n",
    "print(x_test.shape)\n",
    "\n",
    "# x_train = x_train.reshape((297140, 36, 1))\n",
    "# y_train = y_train.reshape((297140,1))\n",
    "# x_test = x_test.reshape((127347, 36, 1))\n",
    "# y_test = y_test.reshape((127347,1))\n",
    "# x_train = x_train.reshape((593773, 33, 1))\n",
    "# y_train = y_train.reshape((593773,1))\n",
    "# x_test = x_test.reshape((254475, 33, 1))\n",
    "# y_test = y_test.reshape((254475,1))"
   ]
  },
  {
   "cell_type": "code",
   "execution_count": 69,
   "metadata": {},
   "outputs": [
    {
     "name": "stdout",
     "output_type": "stream",
     "text": [
      "Train on 296886 samples, validate on 127238 samples\n",
      "Epoch 1/90\n",
      "296886/296886 [==============================] - 5s 18us/step - loss: 0.0161 - mean_squared_error: 0.0161 - val_loss: 7.5119e-06 - val_mean_squared_error: 7.5119e-06\n",
      "Epoch 2/90\n",
      "296886/296886 [==============================] - 4s 13us/step - loss: 7.8049e-06 - mean_squared_error: 7.8049e-06 - val_loss: 6.6869e-06 - val_mean_squared_error: 6.6869e-06\n",
      "Epoch 3/90\n",
      "296886/296886 [==============================] - 4s 14us/step - loss: 6.7766e-06 - mean_squared_error: 6.7766e-06 - val_loss: 5.7242e-06 - val_mean_squared_error: 5.7242e-06\n",
      "Epoch 4/90\n",
      "296886/296886 [==============================] - 4s 14us/step - loss: 5.6674e-06 - mean_squared_error: 5.6674e-06 - val_loss: 4.7671e-06 - val_mean_squared_error: 4.7671e-06\n",
      "Epoch 5/90\n",
      "296886/296886 [==============================] - 4s 14us/step - loss: 4.6121e-06 - mean_squared_error: 4.6121e-06 - val_loss: 3.9164e-06 - val_mean_squared_error: 3.9165e-06\n",
      "Epoch 6/90\n",
      "296886/296886 [==============================] - 4s 14us/step - loss: 3.7050e-06 - mean_squared_error: 3.7050e-06 - val_loss: 3.2382e-06 - val_mean_squared_error: 3.2382e-06\n",
      "Epoch 7/90\n",
      "296886/296886 [==============================] - 4s 15us/step - loss: 2.9981e-06 - mean_squared_error: 2.9981e-06 - val_loss: 2.7473e-06 - val_mean_squared_error: 2.7473e-06\n",
      "Epoch 8/90\n",
      "296886/296886 [==============================] - 4s 15us/step - loss: 2.5006e-06 - mean_squared_error: 2.5006e-06 - val_loss: 2.4372e-06 - val_mean_squared_error: 2.4372e-06\n",
      "Epoch 9/90\n",
      "296886/296886 [==============================] - 4s 15us/step - loss: 2.1866e-06 - mean_squared_error: 2.1866e-06 - val_loss: 2.2749e-06 - val_mean_squared_error: 2.2749e-06\n",
      "Epoch 10/90\n",
      "296886/296886 [==============================] - 4s 15us/step - loss: 2.0099e-06 - mean_squared_error: 2.0099e-06 - val_loss: 2.2012e-06 - val_mean_squared_error: 2.2012e-06\n",
      "Epoch 11/90\n",
      "296886/296886 [==============================] - 4s 15us/step - loss: 1.9195e-06 - mean_squared_error: 1.9195e-06 - val_loss: 2.1648e-06 - val_mean_squared_error: 2.1648e-06\n",
      "Epoch 12/90\n",
      "296886/296886 [==============================] - 5s 16us/step - loss: 1.8732e-06 - mean_squared_error: 1.8732e-06 - val_loss: 2.1477e-06 - val_mean_squared_error: 2.1477e-06\n",
      "Epoch 13/90\n",
      "296886/296886 [==============================] - 5s 15us/step - loss: 1.8466e-06 - mean_squared_error: 1.8466e-06 - val_loss: 2.1323e-06 - val_mean_squared_error: 2.1323e-06\n",
      "Epoch 14/90\n",
      "296886/296886 [==============================] - 5s 16us/step - loss: 1.8226e-06 - mean_squared_error: 1.8226e-06 - val_loss: 2.1172e-06 - val_mean_squared_error: 2.1172e-06\n",
      "Epoch 15/90\n",
      "296886/296886 [==============================] - 5s 16us/step - loss: 1.8053e-06 - mean_squared_error: 1.8053e-06 - val_loss: 2.1298e-06 - val_mean_squared_error: 2.1298e-06\n",
      "Epoch 16/90\n",
      "296886/296886 [==============================] - 5s 16us/step - loss: 1.7858e-06 - mean_squared_error: 1.7858e-06 - val_loss: 2.0757e-06 - val_mean_squared_error: 2.0757e-06\n",
      "Epoch 17/90\n",
      "296886/296886 [==============================] - 5s 16us/step - loss: 1.7575e-06 - mean_squared_error: 1.7575e-06 - val_loss: 2.0487e-06 - val_mean_squared_error: 2.0487e-06\n",
      "Epoch 18/90\n",
      "296886/296886 [==============================] - 5s 16us/step - loss: 1.7362e-06 - mean_squared_error: 1.7362e-06 - val_loss: 2.0394e-06 - val_mean_squared_error: 2.0394e-06\n",
      "Epoch 19/90\n",
      "296886/296886 [==============================] - 5s 16us/step - loss: 1.7138e-06 - mean_squared_error: 1.7138e-06 - val_loss: 2.0637e-06 - val_mean_squared_error: 2.0637e-06\n",
      "Epoch 20/90\n",
      "296886/296886 [==============================] - 5s 16us/step - loss: 1.6902e-06 - mean_squared_error: 1.6902e-06 - val_loss: 1.9980e-06 - val_mean_squared_error: 1.9980e-06\n",
      "Epoch 21/90\n",
      "296886/296886 [==============================] - 5s 16us/step - loss: 1.7177e-06 - mean_squared_error: 1.7177e-06 - val_loss: 1.9676e-06 - val_mean_squared_error: 1.9676e-06\n",
      "Epoch 22/90\n",
      "296886/296886 [==============================] - 5s 16us/step - loss: 1.7686e-06 - mean_squared_error: 1.7686e-06 - val_loss: 2.2758e-06 - val_mean_squared_error: 2.2758e-06\n",
      "Epoch 23/90\n",
      "296886/296886 [==============================] - 5s 15us/step - loss: 3.0879e-06 - mean_squared_error: 3.0879e-06 - val_loss: 3.5025e-06 - val_mean_squared_error: 3.5025e-06\n",
      "Epoch 24/90\n",
      "296886/296886 [==============================] - 5s 16us/step - loss: 3.4551e-06 - mean_squared_error: 3.4551e-06 - val_loss: 4.1565e-06 - val_mean_squared_error: 4.1565e-06\n",
      "Epoch 25/90\n",
      "296886/296886 [==============================] - 5s 15us/step - loss: 3.5117e-06 - mean_squared_error: 3.5117e-06 - val_loss: 4.5672e-06 - val_mean_squared_error: 4.5672e-06\n",
      "Epoch 26/90\n",
      "296886/296886 [==============================] - 5s 15us/step - loss: 3.5330e-06 - mean_squared_error: 3.5330e-06 - val_loss: 4.6711e-06 - val_mean_squared_error: 4.6711e-06\n",
      "Epoch 27/90\n",
      "296886/296886 [==============================] - 5s 15us/step - loss: 3.5286e-06 - mean_squared_error: 3.5286e-06 - val_loss: 4.6163e-06 - val_mean_squared_error: 4.6163e-06\n",
      "Epoch 28/90\n",
      "296886/296886 [==============================] - 5s 16us/step - loss: 3.5057e-06 - mean_squared_error: 3.5057e-06 - val_loss: 4.4673e-06 - val_mean_squared_error: 4.4673e-06\n",
      "Epoch 29/90\n",
      "296886/296886 [==============================] - 5s 15us/step - loss: 3.4705e-06 - mean_squared_error: 3.4705e-06 - val_loss: 4.2458e-06 - val_mean_squared_error: 4.2458e-06\n",
      "Epoch 30/90\n",
      "296886/296886 [==============================] - 5s 16us/step - loss: 3.4266e-06 - mean_squared_error: 3.4266e-06 - val_loss: 3.9826e-06 - val_mean_squared_error: 3.9826e-06\n",
      "Epoch 31/90\n",
      "296886/296886 [==============================] - 5s 16us/step - loss: 3.3777e-06 - mean_squared_error: 3.3777e-06 - val_loss: 3.6773e-06 - val_mean_squared_error: 3.6773e-06\n",
      "Epoch 32/90\n",
      "296886/296886 [==============================] - 5s 15us/step - loss: 3.3261e-06 - mean_squared_error: 3.3261e-06 - val_loss: 3.3740e-06 - val_mean_squared_error: 3.3740e-06\n",
      "Epoch 33/90\n",
      "296886/296886 [==============================] - 5s 15us/step - loss: 3.2734e-06 - mean_squared_error: 3.2734e-06 - val_loss: 3.0839e-06 - val_mean_squared_error: 3.0839e-06\n",
      "Epoch 34/90\n",
      "296886/296886 [==============================] - 5s 16us/step - loss: 3.2211e-06 - mean_squared_error: 3.2211e-06 - val_loss: 2.8299e-06 - val_mean_squared_error: 2.8299e-06\n",
      "Epoch 35/90\n",
      "296886/296886 [==============================] - 5s 15us/step - loss: 3.1699e-06 - mean_squared_error: 3.1699e-06 - val_loss: 2.6059e-06 - val_mean_squared_error: 2.6059e-06\n",
      "Epoch 36/90\n",
      "296886/296886 [==============================] - 5s 15us/step - loss: 3.1200e-06 - mean_squared_error: 3.1200e-06 - val_loss: 2.4168e-06 - val_mean_squared_error: 2.4168e-06\n",
      "Epoch 37/90\n",
      "296886/296886 [==============================] - 4s 15us/step - loss: 3.0714e-06 - mean_squared_error: 3.0714e-06 - val_loss: 2.2648e-06 - val_mean_squared_error: 2.2648e-06\n",
      "Epoch 38/90\n",
      "296886/296886 [==============================] - 5s 15us/step - loss: 3.0247e-06 - mean_squared_error: 3.0247e-06 - val_loss: 2.1377e-06 - val_mean_squared_error: 2.1377e-06\n",
      "Epoch 39/90\n",
      "296886/296886 [==============================] - 4s 15us/step - loss: 2.9795e-06 - mean_squared_error: 2.9795e-06 - val_loss: 2.0371e-06 - val_mean_squared_error: 2.0371e-06\n",
      "Epoch 40/90\n",
      "296886/296886 [==============================] - 4s 15us/step - loss: 2.9364e-06 - mean_squared_error: 2.9364e-06 - val_loss: 1.9619e-06 - val_mean_squared_error: 1.9619e-06\n",
      "Epoch 41/90\n",
      "296886/296886 [==============================] - 4s 15us/step - loss: 2.8948e-06 - mean_squared_error: 2.8948e-06 - val_loss: 1.9096e-06 - val_mean_squared_error: 1.9096e-06\n",
      "Epoch 42/90\n",
      "296886/296886 [==============================] - 4s 15us/step - loss: 2.8550e-06 - mean_squared_error: 2.8550e-06 - val_loss: 1.8744e-06 - val_mean_squared_error: 1.8744e-06\n",
      "Epoch 43/90\n",
      "296886/296886 [==============================] - 4s 15us/step - loss: 2.8167e-06 - mean_squared_error: 2.8167e-06 - val_loss: 1.8558e-06 - val_mean_squared_error: 1.8558e-06\n",
      "Epoch 44/90\n",
      "296886/296886 [==============================] - 4s 15us/step - loss: 2.7807e-06 - mean_squared_error: 2.7807e-06 - val_loss: 1.8497e-06 - val_mean_squared_error: 1.8497e-06\n"
     ]
    },
    {
     "name": "stdout",
     "output_type": "stream",
     "text": [
      "Epoch 45/90\n",
      "296886/296886 [==============================] - 4s 15us/step - loss: 2.7457e-06 - mean_squared_error: 2.7457e-06 - val_loss: 1.8528e-06 - val_mean_squared_error: 1.8528e-06\n",
      "Epoch 46/90\n",
      "296886/296886 [==============================] - 4s 15us/step - loss: 2.7128e-06 - mean_squared_error: 2.7128e-06 - val_loss: 1.8635e-06 - val_mean_squared_error: 1.8635e-06\n",
      "Epoch 47/90\n",
      "296886/296886 [==============================] - 4s 15us/step - loss: 2.6805e-06 - mean_squared_error: 2.6805e-06 - val_loss: 1.8788e-06 - val_mean_squared_error: 1.8788e-06\n",
      "Epoch 48/90\n",
      "296886/296886 [==============================] - 4s 15us/step - loss: 2.6501e-06 - mean_squared_error: 2.6501e-06 - val_loss: 1.8970e-06 - val_mean_squared_error: 1.8970e-06\n",
      "Epoch 49/90\n",
      "296886/296886 [==============================] - 4s 15us/step - loss: 2.6210e-06 - mean_squared_error: 2.6210e-06 - val_loss: 1.9179e-06 - val_mean_squared_error: 1.9179e-06\n",
      "Epoch 50/90\n",
      "296886/296886 [==============================] - 4s 15us/step - loss: 2.5924e-06 - mean_squared_error: 2.5924e-06 - val_loss: 1.9337e-06 - val_mean_squared_error: 1.9337e-06\n",
      "Epoch 51/90\n",
      "296886/296886 [==============================] - 4s 15us/step - loss: 2.5652e-06 - mean_squared_error: 2.5652e-06 - val_loss: 1.9457e-06 - val_mean_squared_error: 1.9457e-06\n",
      "Epoch 52/90\n",
      "296886/296886 [==============================] - 4s 15us/step - loss: 2.5389e-06 - mean_squared_error: 2.5389e-06 - val_loss: 1.9504e-06 - val_mean_squared_error: 1.9504e-06\n",
      "Epoch 53/90\n",
      "296886/296886 [==============================] - 4s 15us/step - loss: 2.5142e-06 - mean_squared_error: 2.5142e-06 - val_loss: 1.9512e-06 - val_mean_squared_error: 1.9512e-06\n",
      "Epoch 54/90\n",
      "296886/296886 [==============================] - 4s 15us/step - loss: 2.4904e-06 - mean_squared_error: 2.4904e-06 - val_loss: 1.9485e-06 - val_mean_squared_error: 1.9485e-06\n",
      "Epoch 55/90\n",
      "296886/296886 [==============================] - 4s 15us/step - loss: 2.4675e-06 - mean_squared_error: 2.4675e-06 - val_loss: 1.9444e-06 - val_mean_squared_error: 1.9444e-06\n",
      "Epoch 56/90\n",
      "296886/296886 [==============================] - 4s 15us/step - loss: 2.4457e-06 - mean_squared_error: 2.4457e-06 - val_loss: 1.9399e-06 - val_mean_squared_error: 1.9399e-06\n",
      "Epoch 57/90\n",
      "296886/296886 [==============================] - 4s 15us/step - loss: 2.4245e-06 - mean_squared_error: 2.4245e-06 - val_loss: 1.9332e-06 - val_mean_squared_error: 1.9332e-06\n",
      "Epoch 58/90\n",
      "296886/296886 [==============================] - 4s 15us/step - loss: 2.4046e-06 - mean_squared_error: 2.4046e-06 - val_loss: 1.9289e-06 - val_mean_squared_error: 1.9289e-06\n",
      "Epoch 59/90\n",
      "296886/296886 [==============================] - 4s 15us/step - loss: 2.3854e-06 - mean_squared_error: 2.3854e-06 - val_loss: 1.9254e-06 - val_mean_squared_error: 1.9254e-06\n",
      "Epoch 60/90\n",
      "296886/296886 [==============================] - 4s 15us/step - loss: 2.3666e-06 - mean_squared_error: 2.3666e-06 - val_loss: 1.9214e-06 - val_mean_squared_error: 1.9214e-06\n",
      "Epoch 61/90\n",
      "296886/296886 [==============================] - 4s 15us/step - loss: 2.3488e-06 - mean_squared_error: 2.3488e-06 - val_loss: 1.9184e-06 - val_mean_squared_error: 1.9184e-06\n",
      "Epoch 62/90\n",
      "296886/296886 [==============================] - 5s 18us/step - loss: 2.3314e-06 - mean_squared_error: 2.3314e-06 - val_loss: 1.9151e-06 - val_mean_squared_error: 1.9151e-06\n",
      "Epoch 63/90\n",
      "296886/296886 [==============================] - 6s 21us/step - loss: 2.3148e-06 - mean_squared_error: 2.3148e-06 - val_loss: 1.9126e-06 - val_mean_squared_error: 1.9126e-06\n",
      "Epoch 64/90\n",
      "296886/296886 [==============================] - 6s 21us/step - loss: 2.2986e-06 - mean_squared_error: 2.2986e-06 - val_loss: 1.9098e-06 - val_mean_squared_error: 1.9098e-06\n",
      "Epoch 65/90\n",
      "296886/296886 [==============================] - 6s 20us/step - loss: 2.2829e-06 - mean_squared_error: 2.2829e-06 - val_loss: 1.9063e-06 - val_mean_squared_error: 1.9063e-06\n",
      "Epoch 66/90\n",
      "296886/296886 [==============================] - 6s 20us/step - loss: 2.2679e-06 - mean_squared_error: 2.2679e-06 - val_loss: 1.9027e-06 - val_mean_squared_error: 1.9027e-06\n",
      "Epoch 67/90\n",
      "296886/296886 [==============================] - 6s 20us/step - loss: 2.2532e-06 - mean_squared_error: 2.2532e-06 - val_loss: 1.8993e-06 - val_mean_squared_error: 1.8993e-06\n",
      "Epoch 68/90\n",
      "296886/296886 [==============================] - 6s 21us/step - loss: 2.2389e-06 - mean_squared_error: 2.2389e-06 - val_loss: 1.8946e-06 - val_mean_squared_error: 1.8946e-06\n",
      "Epoch 69/90\n",
      "296886/296886 [==============================] - 6s 20us/step - loss: 2.2255e-06 - mean_squared_error: 2.2255e-06 - val_loss: 1.8914e-06 - val_mean_squared_error: 1.8914e-06\n",
      "Epoch 70/90\n",
      "296886/296886 [==============================] - 6s 21us/step - loss: 2.2121e-06 - mean_squared_error: 2.2121e-06 - val_loss: 1.8872e-06 - val_mean_squared_error: 1.8872e-06\n",
      "Epoch 71/90\n",
      "296886/296886 [==============================] - 6s 20us/step - loss: 2.1993e-06 - mean_squared_error: 2.1993e-06 - val_loss: 1.8833e-06 - val_mean_squared_error: 1.8833e-06\n",
      "Epoch 72/90\n",
      "296886/296886 [==============================] - 6s 20us/step - loss: 2.1869e-06 - mean_squared_error: 2.1869e-06 - val_loss: 1.8797e-06 - val_mean_squared_error: 1.8797e-06\n",
      "Epoch 73/90\n",
      "296886/296886 [==============================] - 6s 20us/step - loss: 2.1747e-06 - mean_squared_error: 2.1747e-06 - val_loss: 1.8760e-06 - val_mean_squared_error: 1.8760e-06\n",
      "Epoch 74/90\n",
      "296886/296886 [==============================] - 6s 20us/step - loss: 2.1630e-06 - mean_squared_error: 2.1630e-06 - val_loss: 1.8732e-06 - val_mean_squared_error: 1.8732e-06\n",
      "Epoch 75/90\n",
      "296886/296886 [==============================] - 6s 20us/step - loss: 2.1516e-06 - mean_squared_error: 2.1516e-06 - val_loss: 1.8699e-06 - val_mean_squared_error: 1.8699e-06\n",
      "Epoch 76/90\n",
      "296886/296886 [==============================] - 6s 20us/step - loss: 2.1404e-06 - mean_squared_error: 2.1404e-06 - val_loss: 1.8667e-06 - val_mean_squared_error: 1.8667e-06\n",
      "Epoch 77/90\n",
      "296886/296886 [==============================] - 6s 20us/step - loss: 2.1296e-06 - mean_squared_error: 2.1296e-06 - val_loss: 1.8638e-06 - val_mean_squared_error: 1.8638e-06\n",
      "Epoch 78/90\n",
      "296886/296886 [==============================] - 6s 20us/step - loss: 2.1190e-06 - mean_squared_error: 2.1190e-06 - val_loss: 1.8613e-06 - val_mean_squared_error: 1.8613e-06\n",
      "Epoch 79/90\n",
      "296886/296886 [==============================] - 6s 20us/step - loss: 2.1086e-06 - mean_squared_error: 2.1086e-06 - val_loss: 1.8588e-06 - val_mean_squared_error: 1.8588e-06\n",
      "Epoch 80/90\n",
      "296886/296886 [==============================] - 6s 20us/step - loss: 2.0984e-06 - mean_squared_error: 2.0984e-06 - val_loss: 1.8562e-06 - val_mean_squared_error: 1.8562e-06\n",
      "Epoch 81/90\n",
      "296886/296886 [==============================] - 6s 21us/step - loss: 2.0886e-06 - mean_squared_error: 2.0886e-06 - val_loss: 1.8541e-06 - val_mean_squared_error: 1.8541e-06\n",
      "Epoch 82/90\n",
      "296886/296886 [==============================] - 7s 22us/step - loss: 2.0786e-06 - mean_squared_error: 2.0786e-06 - val_loss: 1.8516e-06 - val_mean_squared_error: 1.8516e-06\n",
      "Epoch 83/90\n",
      "296886/296886 [==============================] - 7s 23us/step - loss: 2.0691e-06 - mean_squared_error: 2.0691e-06 - val_loss: 1.8492e-06 - val_mean_squared_error: 1.8492e-06\n",
      "Epoch 84/90\n",
      "296886/296886 [==============================] - 6s 21us/step - loss: 2.0596e-06 - mean_squared_error: 2.0596e-06 - val_loss: 1.8470e-06 - val_mean_squared_error: 1.8470e-06\n",
      "Epoch 85/90\n",
      "296886/296886 [==============================] - 6s 21us/step - loss: 2.0503e-06 - mean_squared_error: 2.0503e-06 - val_loss: 1.8447e-06 - val_mean_squared_error: 1.8447e-06\n",
      "Epoch 86/90\n",
      "296886/296886 [==============================] - 6s 20us/step - loss: 2.0410e-06 - mean_squared_error: 2.0410e-06 - val_loss: 1.8424e-06 - val_mean_squared_error: 1.8424e-06\n",
      "Epoch 87/90\n",
      "296886/296886 [==============================] - 6s 20us/step - loss: 2.0319e-06 - mean_squared_error: 2.0319e-06 - val_loss: 1.8401e-06 - val_mean_squared_error: 1.8401e-06\n",
      "Epoch 88/90\n",
      "296886/296886 [==============================] - 6s 20us/step - loss: 2.0227e-06 - mean_squared_error: 2.0227e-06 - val_loss: 1.8376e-06 - val_mean_squared_error: 1.8376e-06\n",
      "Epoch 89/90\n"
     ]
    },
    {
     "name": "stdout",
     "output_type": "stream",
     "text": [
      "296886/296886 [==============================] - 6s 20us/step - loss: 2.0139e-06 - mean_squared_error: 2.0139e-06 - val_loss: 1.8355e-06 - val_mean_squared_error: 1.8355e-06\n",
      "Epoch 90/90\n",
      "296886/296886 [==============================] - 6s 20us/step - loss: 2.0050e-06 - mean_squared_error: 2.0050e-06 - val_loss: 1.8331e-06 - val_mean_squared_error: 1.8331e-06\n",
      "--------------------------\n",
      "Total training time (seconds) 450.12702202796936\n",
      "127238/127238 [==============================] - 1s 6us/step\n",
      "--------------------------\n",
      "RMSE 1.8330687021121358e-06\n"
     ]
    }
   ],
   "source": [
    "batch_size = 415#895#1660\n",
    "def model_neural(): #change neurons\n",
    "    model = Sequential()\n",
    "    model.add(LSTM(32, input_shape=(x_train.shape[1], x_train.shape[2]),\n",
    "                   stateful = False))\n",
    "    model.add(Dense(1))\n",
    "#     opt = optimizers.RMSprop()\n",
    "    opt = optimizers.Adam()\n",
    "    model.compile(loss='mean_squared_error', optimizer=opt, metrics=['mean_squared_error'])\n",
    "\n",
    "    return model\n",
    "\n",
    "model1 = model_neural()\n",
    "\n",
    "#record training time\n",
    "start=time.time()\n",
    "training_model=model1.fit(x_train, y_train, validation_data = (x_test,y_test), batch_size = 895, epochs = 90, shuffle=False)\n",
    "end=time.time()\n",
    "print(\"--------------------------\")\n",
    "print(\"Total training time (seconds)\", end-start)\n",
    "\n",
    "# make predictions\n",
    "trainPredict = model1.predict(x_train, batch_size = 895)\n",
    "testPredict = model1.predict(x_test, batch_size = 895)\n",
    "\n",
    "#test error\n",
    "test_rmse = model1.evaluate(x_test, y_test,batch_size = 895)\n",
    "print(\"--------------------------\")\n",
    "print('RMSE' , test_rmse[0])"
   ]
  },
  {
   "cell_type": "code",
   "execution_count": 70,
   "metadata": {},
   "outputs": [
    {
     "data": {
      "image/png": "[encoded data removed]",
      "text/plain": [
       "<Figure size 432x288 with 1 Axes>"
      ]
     },
     "metadata": {
      "needs_background": "light"
     },
     "output_type": "display_data"
    }
   ],
   "source": [
    "plt.plot(training1.history['loss'], label= 'loss(mse)')\n",
    "plt.plot(np.sqrt(training_model.history['mean_squared_error']), label= 'rmse')\n",
    "plt.title('Training loss')\n",
    "plt.ylim(0,0.3)\n",
    "plt.legend(loc=1)\n",
    "plt.show()"
   ]
  },
  {
   "cell_type": "code",
   "execution_count": null,
   "metadata": {},
   "outputs": [],
   "source": []
  },
  {
   "cell_type": "code",
   "execution_count": null,
   "metadata": {},
   "outputs": [],
   "source": []
  }
 ],
 "metadata": {
  "kernelspec": {
   "display_name": "Python 3",
   "language": "python",
   "name": "python3"
  },
  "language_info": {
   "codemirror_mode": {
    "name": "ipython",
    "version": 3
   },
   "file_extension": ".py",
   "mimetype": "text/x-python",
   "name": "python",
   "nbconvert_exporter": "python",
   "pygments_lexer": "ipython3",
   "version": "3.7.4"
  }
 },
 "nbformat": 4,
 "nbformat_minor": 2
}
